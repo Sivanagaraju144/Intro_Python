{
 "cells": [
  {
   "cell_type": "markdown",
   "id": "1ad04050-e8bf-4837-9129-add5ed89fc4d",
   "metadata": {},
   "source": [
    "Data types\n",
    "\n",
    "Data types are the classification or categorization of knowledge items. The 6 standard data types in Python are Numeric, String, List, Tuple, Set, and Dictionary.\n",
    "\n",
    "Types of data types are\n",
    "\n",
    "Numeric data types: int, float, complex.\r\n",
    "String data types: str.\r\n",
    "Sequence types: list, tuple, range.\r\n",
    "Binary types: bytes, bytearray, memoryview.\r\n",
    "Mapping data type: dict.\r\n",
    "Boolean type: bool.\r\n",
    "Set data types: set, froz\n",
    "\n",
    "There are four basic data types\n",
    "\n",
    "int\n",
    "floaean\n",
    "cot\n",
    "boox\n",
    "\n",
    "Data types\n",
    "\n",
    "Data types are the classification or categorization of knowledge items. The 6 standard data types in Python are Numeric, String, List, Tuple, Set, and Dictionary.\n",
    "\n",
    "Types of data types are\n",
    "\n",
    "Numeric data types: int, float, complex.\n",
    "String data types: str.\n",
    "Sequence types: list, tuple, range.\n",
    "Binary types: bytes, bytearray, memoryview.\n",
    "Mapping data type: dict.\n",
    "Boolean type: bool.\n",
    "Set data types: set, froz\n",
    "\n",
    "There are four basic data types\n",
    "\n",
    "int\n",
    "float\n",
    "boolean\n",
    "complex\n",
    "\n",
    "\n",
    "enset."
   ]
  },
  {
   "cell_type": "code",
   "execution_count": 1,
   "id": "37171ecd-9f20-4216-8c1e-04d3169c499d",
   "metadata": {},
   "outputs": [
    {
     "name": "stdout",
     "output_type": "stream",
     "text": [
      "72.0\n"
     ]
    }
   ],
   "source": [
    "x = 72\n",
    "y = 2.763\n",
    "z = 1j\n",
    "a = float(x)\n",
    "print(a)"
   ]
  },
  {
   "cell_type": "code",
   "execution_count": 2,
   "id": "d41fa9ea-623e-4499-b0f8-24929199678f",
   "metadata": {},
   "outputs": [
    {
     "name": "stdout",
     "output_type": "stream",
     "text": [
      "<class 'int'>\n"
     ]
    }
   ],
   "source": [
    "x = 84\n",
    "print(type(x))"
   ]
  },
  {
   "cell_type": "code",
   "execution_count": 3,
   "id": "ed122f02-0b3f-42ef-8329-e76215e9f787",
   "metadata": {},
   "outputs": [
    {
     "name": "stdout",
     "output_type": "stream",
     "text": [
      "<class 'float'>\n"
     ]
    }
   ],
   "source": [
    "a = 23.1234\n",
    "print(type(a))"
   ]
  },
  {
   "cell_type": "code",
   "execution_count": 4,
   "id": "ce9ecd64-10c1-4f12-8ca2-0a77365a727c",
   "metadata": {},
   "outputs": [
    {
     "name": "stdout",
     "output_type": "stream",
     "text": [
      "<class 'complex'>\n"
     ]
    }
   ],
   "source": [
    "t = 1j\n",
    "print(type(t))"
   ]
  },
  {
   "cell_type": "code",
   "execution_count": 5,
   "id": "c19891e4-1a7c-44a8-a78a-824111d00585",
   "metadata": {},
   "outputs": [
    {
     "name": "stdout",
     "output_type": "stream",
     "text": [
      "<class 'float'>\n",
      "<class 'complex'>\n"
     ]
    }
   ],
   "source": [
    "y = 2.855995\n",
    "z = 1j\n",
    "print(type(y))\n",
    "print(type(z))"
   ]
  },
  {
   "cell_type": "code",
   "execution_count": 7,
   "id": "3e2da298-3fca-4ea2-baf4-45c4fbd82d63",
   "metadata": {},
   "outputs": [
    {
     "name": "stdout",
     "output_type": "stream",
     "text": [
      "True\n"
     ]
    }
   ],
   "source": [
    "print(bool(2.5))"
   ]
  },
  {
   "cell_type": "code",
   "execution_count": 8,
   "id": "304912c8-948b-4f41-bd14-44fee61f5104",
   "metadata": {},
   "outputs": [
    {
     "name": "stdout",
     "output_type": "stream",
     "text": [
      "True\n",
      "(678+0j)\n"
     ]
    }
   ],
   "source": [
    "x = 678\n",
    "y = bool(x)\n",
    "s = complex(x)\n",
    "print(y)\n",
    "print(s)"
   ]
  },
  {
   "cell_type": "code",
   "execution_count": 9,
   "id": "6096d9c9-493e-4963-af43-864d339269f2",
   "metadata": {},
   "outputs": [
    {
     "name": "stdout",
     "output_type": "stream",
     "text": [
      "True\n"
     ]
    }
   ],
   "source": [
    "print(bool(3.45))"
   ]
  },
  {
   "cell_type": "code",
   "execution_count": 10,
   "id": "6a53480e-e1e6-4bb1-9f4e-07bb63d16f02",
   "metadata": {},
   "outputs": [
    {
     "name": "stdout",
     "output_type": "stream",
     "text": [
      "False\n"
     ]
    }
   ],
   "source": [
    "print(bool(0))"
   ]
  },
  {
   "cell_type": "code",
   "execution_count": 11,
   "id": "627f7110-8008-468d-ab66-0abadc149aed",
   "metadata": {},
   "outputs": [
    {
     "name": "stdout",
     "output_type": "stream",
     "text": [
      "True\n"
     ]
    }
   ],
   "source": [
    "print(13 > 4)"
   ]
  },
  {
   "cell_type": "code",
   "execution_count": null,
   "id": "6f2ec36b-6b74-46c8-84ec-a8dc72e4206a",
   "metadata": {},
   "outputs": [],
   "source": []
  }
 ],
 "metadata": {
  "kernelspec": {
   "display_name": "Python 3 (ipykernel)",
   "language": "python",
   "name": "python3"
  },
  "language_info": {
   "codemirror_mode": {
    "name": "ipython",
    "version": 3
   },
   "file_extension": ".py",
   "mimetype": "text/x-python",
   "name": "python",
   "nbconvert_exporter": "python",
   "pygments_lexer": "ipython3",
   "version": "3.12.4"
  }
 },
 "nbformat": 4,
 "nbformat_minor": 5
}

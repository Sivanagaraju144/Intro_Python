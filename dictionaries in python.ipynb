{
 "cells": [
  {
   "cell_type": "code",
   "execution_count": null,
   "id": "620c26e0-3df5-45c2-9e7d-dd2912a2d445",
   "metadata": {},
   "outputs": [],
   "source": [
    "Dictionary\n",
    "\n",
    "Dictionaries are used to store data values in key:value pairs.\n",
    "\n",
    "A dictionary is a collection which is ordered*, changeable and do not allow duplicates.\n",
    "\n",
    "Dictionaries are written with curly brackets, and have keys and values:\n"
   ]
  },
  {
   "cell_type": "code",
   "execution_count": 1,
   "id": "9783eef7-49ab-4208-b25a-1fbe62866283",
   "metadata": {},
   "outputs": [
    {
     "name": "stdout",
     "output_type": "stream",
     "text": [
      "{'brand': 'Maruti', 'model': 'swift', 'year': 2000}\n"
     ]
    }
   ],
   "source": [
    "thisdict = {\n",
    "  \"brand\": \"Maruti\",\n",
    "  \"model\": \"swift\",\n",
    "  \"year\": 2000\n",
    "}\n",
    "print(thisdict)"
   ]
  },
  {
   "cell_type": "code",
   "execution_count": null,
   "id": "739f1c0a-4e72-410a-8e7d-0110c734261a",
   "metadata": {},
   "outputs": [],
   "source": [
    "Dictionary Items\n",
    "\n",
    "Dictionary items are ordered, changeable, and do not allow duplicates.\n",
    "\n",
    "Dictionary items are presented in key:value pairs, and can be referred to by using the key name."
   ]
  },
  {
   "cell_type": "code",
   "execution_count": 2,
   "id": "9686e581-ad75-4f66-98ef-87becafd5f7b",
   "metadata": {},
   "outputs": [
    {
     "name": "stdout",
     "output_type": "stream",
     "text": [
      "maruti\n"
     ]
    }
   ],
   "source": [
    "thisdict = {\n",
    "  \"brand\": \"maruti\",\n",
    "  \"model\": \"swift\",\n",
    "  \"year\": 1964\n",
    "}\n",
    "print(thisdict[\"brand\"])"
   ]
  },
  {
   "cell_type": "code",
   "execution_count": null,
   "id": "23e27205-395f-46d0-9a1d-12336070dd56",
   "metadata": {},
   "outputs": [],
   "source": [
    "Ordered or Unordered?\n",
    "\n",
    "When we say that dictionaries are ordered, it means that the items have a defined order, and that order will not change.\n",
    "\n",
    "Unordered means that the items do not have a defined order, you cannot refer to an item by using an index.\n",
    "\n",
    "Duplicates Not Allowed\n",
    "\n",
    "Dictionaries cannot have two items with the same key:\n",
    "\n"
   ]
  },
  {
   "cell_type": "code",
   "execution_count": 3,
   "id": "a7a4846c-23fe-4843-addf-2c97d6206adb",
   "metadata": {},
   "outputs": [
    {
     "name": "stdout",
     "output_type": "stream",
     "text": [
      "{'brand': 'maruti', 'model': 'swift', 'year': 2020}\n"
     ]
    }
   ],
   "source": [
    "thisdict = {\n",
    "  \"brand\": \"maruti\",\n",
    "  \"model\": \"swift\",\n",
    "  \"year\": 2000,\n",
    "  \"year\": 2020\n",
    "}\n",
    "print(thisdict)"
   ]
  },
  {
   "cell_type": "code",
   "execution_count": null,
   "id": "4c9e1095-40bf-4449-8761-b78cd05eb1b4",
   "metadata": {},
   "outputs": [],
   "source": [
    "Dictionary Length\n",
    "\n",
    "To determine how many items a dictionary has, use the len() function:"
   ]
  },
  {
   "cell_type": "code",
   "execution_count": 4,
   "id": "d0c7c061-8d73-4ca8-ab80-439ad4403f7f",
   "metadata": {},
   "outputs": [
    {
     "name": "stdout",
     "output_type": "stream",
     "text": [
      "3\n"
     ]
    }
   ],
   "source": [
    "#Print the number of items in the dictionary:\n",
    "\n",
    "print(len(thisdict))"
   ]
  },
  {
   "cell_type": "code",
   "execution_count": null,
   "id": "45491a67-b948-45ac-a91d-2daf8ec0db71",
   "metadata": {},
   "outputs": [],
   "source": [
    "Dictionary Items - Data Types\n",
    "\n",
    "The values in dictionary items can be of any data type:Example\n",
    "String, int, boolean, and list data types:\n",
    "\n"
   ]
  },
  {
   "cell_type": "code",
   "execution_count": 5,
   "id": "ce9909dc-6e04-47cc-b4a5-8424c4cdffb9",
   "metadata": {},
   "outputs": [],
   "source": [
    "thisdict = {\n",
    "  \"brand\": \"Ford\",\n",
    "  \"electric\": False,\n",
    "  \"year\": 1964,\n",
    "  \"colors\": [\"red\", \"white\", \"blue\"]\n",
    "}"
   ]
  },
  {
   "cell_type": "code",
   "execution_count": null,
   "id": "f82a1475-04aa-4b26-9c77-8f28bef16bbf",
   "metadata": {},
   "outputs": [],
   "source": [
    "type()\n",
    "\n",
    "From Python's perspective, dictionaries are defined as objects with the data type 'dict':\n",
    "\n",
    "<class 'dict'>"
   ]
  },
  {
   "cell_type": "code",
   "execution_count": 6,
   "id": "aecff57c-d24f-4e38-8df1-6d962bebfaad",
   "metadata": {},
   "outputs": [
    {
     "name": "stdout",
     "output_type": "stream",
     "text": [
      "<class 'dict'>\n"
     ]
    }
   ],
   "source": [
    "thisdict = {\n",
    "  \"brand\": \"Ford\",\n",
    "  \"model\": \"Mustang\",\n",
    "  \"year\": 1964\n",
    "}\n",
    "print(type(thisdict))"
   ]
  },
  {
   "cell_type": "code",
   "execution_count": null,
   "id": "5a8a9a06-8ac5-4dbc-89e9-0f1ff59029fa",
   "metadata": {},
   "outputs": [],
   "source": [
    "The dict() Constructor\n",
    "\n",
    "It is also possible to use the dict() constructor to make a dictionary."
   ]
  },
  {
   "cell_type": "code",
   "execution_count": 12,
   "id": "6cb800cd-d4bf-4fba-b465-7820be5ecc79",
   "metadata": {},
   "outputs": [
    {
     "name": "stdout",
     "output_type": "stream",
     "text": [
      "{'name': 'John', 'age': 36, 'country': 'Norway'}\n"
     ]
    }
   ],
   "source": [
    "student = dict(name = \"John\", age = 36, country = \"Norway\")\n",
    "print(student)"
   ]
  },
  {
   "cell_type": "code",
   "execution_count": 19,
   "id": "92d8c446-e7ef-4237-8d8a-dece009dabe0",
   "metadata": {},
   "outputs": [
    {
     "name": "stdout",
     "output_type": "stream",
     "text": [
      "{'name': 'John', 'age': 34, 'country': 'Norway'}\n"
     ]
    }
   ],
   "source": [
    "student['age'] = 34\n",
    "print(student)\n"
   ]
  },
  {
   "cell_type": "code",
   "execution_count": 20,
   "id": "c186cf18-22f3-41b3-944c-13f960512d1d",
   "metadata": {},
   "outputs": [
    {
     "name": "stdout",
     "output_type": "stream",
     "text": [
      "{1: 2}\n",
      "{1: 2, 3: 4, 5: 6, 7: 8}\n"
     ]
    }
   ],
   "source": [
    "#adding a new entry\n",
    "#To add multiple keys simultaneously, use dict.update():\n",
    "\n",
    "x = {1:2}\n",
    "print(x)\n",
    "{1: 2}\n",
    "\n",
    "d = {3:4, 5:6, 7:8}\n",
    "x.update(d)\n",
    "print(x)"
   ]
  },
  {
   "cell_type": "code",
   "execution_count": null,
   "id": "17293644-330b-40d5-b025-d05199a90fe0",
   "metadata": {},
   "outputs": [],
   "source": [
    "Inserting/Updating a single value\n",
    "\n",
    "data['a'] = 1  # Updates if 'a' exists, else adds 'a'\n",
    "# OR\n",
    "data.update({'a': 1})\n",
    "# OR\n",
    "data.update(dict(a=1))\n",
    "# OR\n",
    "data.update(a=1)"
   ]
  },
  {
   "cell_type": "code",
   "execution_count": null,
   "id": "ff4c2bac-da8a-44bb-b56f-95ee2762b84f",
   "metadata": {},
   "outputs": [],
   "source": [
    "Deleting items in dictionary\n",
    "\n",
    "del data[key]  # Removes specific element in a dictionary\n",
    "data.pop(key)  # Removes the key & returns the value\n",
    "data.clear()  # Clears entire dictionary"
   ]
  },
  {
   "cell_type": "code",
   "execution_count": null,
   "id": "9380f456-6ca9-4f74-90ae-279dad899583",
   "metadata": {},
   "outputs": [],
   "source": [
    "Create a dictionary from two lists\n",
    "\n",
    "data = dict(zip(list_with_keys, list_with_values))"
   ]
  }
 ],
 "metadata": {
  "kernelspec": {
   "display_name": "Python 3 (ipykernel)",
   "language": "python",
   "name": "python3"
  },
  "language_info": {
   "codemirror_mode": {
    "name": "ipython",
    "version": 3
   },
   "file_extension": ".py",
   "mimetype": "text/x-python",
   "name": "python",
   "nbconvert_exporter": "python",
   "pygments_lexer": "ipython3",
   "version": "3.12.4"
  }
 },
 "nbformat": 4,
 "nbformat_minor": 5
}

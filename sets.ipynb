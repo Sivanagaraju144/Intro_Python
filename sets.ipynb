{
 "cells": [
  {
   "cell_type": "code",
   "execution_count": null,
   "id": "c777fe18-4a4a-4358-81cb-bbf73fd5ba02",
   "metadata": {},
   "outputs": [],
   "source": [
    "Set\n",
    "\n",
    "Sets are used to store multiple items in a single variable.\n",
    "\n",
    "Set is one of 4 built-in data types in Python used to store collections of data, the other 3 are List, Tuple, and Dictionary, all with different qualities and usage.\n",
    "\n",
    "A set is a collection which is unordered, unchangeable*, and unindexed."
   ]
  },
  {
   "cell_type": "code",
   "execution_count": null,
   "id": "146b0c21-c782-40fe-a566-6e4734591dfc",
   "metadata": {},
   "outputs": [],
   "source": [
    "Sets are written with curly brackets."
   ]
  },
  {
   "cell_type": "code",
   "execution_count": 1,
   "id": "bbb556b3-58ec-4e36-99b4-b6a1453cce4f",
   "metadata": {},
   "outputs": [
    {
     "name": "stdout",
     "output_type": "stream",
     "text": [
      "{'cherry', 'apple', 'banana'}\n"
     ]
    }
   ],
   "source": [
    "#Create a Set:\n",
    "\n",
    "thisset = {\"apple\", \"banana\", \"cherry\"}\n",
    "print(thisset)"
   ]
  },
  {
   "cell_type": "code",
   "execution_count": null,
   "id": "2bd16ba7-22e4-41e8-8ffb-10ed63edc370",
   "metadata": {},
   "outputs": [],
   "source": [
    "Set Items\n",
    "\n",
    "Set items are unordered, unchangeable, and do not allow duplicate values.\n",
    "\n",
    "Unordered\n",
    "\n",
    "Unordered means that the items in a set do not have a defined order.\n",
    "\n",
    "Set items can appear in a different order every time you use them, and cannot be referred to by index or key.\n",
    "\n",
    "Unchangeable\n",
    "\n",
    "Set items are unchangeable, meaning that we cannot change the items after the set has been created.\n",
    "\n",
    "Once a set is created, you cannot change its items, but you can remove items and add new items."
   ]
  },
  {
   "cell_type": "code",
   "execution_count": 2,
   "id": "d58eeb6b-c88d-4c9b-aba9-fa0ddbc07a6d",
   "metadata": {},
   "outputs": [
    {
     "name": "stdout",
     "output_type": "stream",
     "text": [
      "{'cherry', 'apple', 'banana'}\n"
     ]
    }
   ],
   "source": [
    "#Duplicates Not Allowed\n",
    "#Sets cannot have two items with the same value.\n",
    "\n",
    "#Duplicate values will be ignored:\n",
    "\n",
    "thisset = {\"apple\", \"banana\", \"cherry\", \"apple\"}\n",
    "\n",
    "print(thisset)"
   ]
  },
  {
   "cell_type": "code",
   "execution_count": null,
   "id": "e1008efd-e8b9-4426-81ce-1d527ad27f40",
   "metadata": {},
   "outputs": [],
   "source": [
    "Union() function in Python\n",
    "\n",
    "Python set Union() Method returns a new set that contains all the items from the original set.\n",
    "\n",
    "The union of two given sets is the set that contains all the elements of both sets. The union of two given sets A and B is a set that consists of all the elements of A and all the elements of B such that no element is repeated."
   ]
  },
  {
   "cell_type": "code",
   "execution_count": 3,
   "id": "985fa645-f0e1-4daa-90f0-8827732bd4af",
   "metadata": {},
   "outputs": [
    {
     "name": "stdout",
     "output_type": "stream",
     "text": [
      "A U B: {2, 4, 5, 6, 7, 8}\n"
     ]
    }
   ],
   "source": [
    "A = {2, 4, 5, 6} \n",
    "B = {4, 6, 7, 8}\n",
    " \n",
    "print(\"A U B:\", A.union(B))"
   ]
  },
  {
   "cell_type": "code",
   "execution_count": 4,
   "id": "9dc319e6-7c93-48f0-8487-647defbb50f5",
   "metadata": {},
   "outputs": [
    {
     "name": "stdout",
     "output_type": "stream",
     "text": [
      "set1 U set2 :  {2, 4, 5, 6, 7, 8}\n",
      "set1 U set2 U set3 : {2, 4, 5, 6, 7, 8, 9, 10}\n"
     ]
    }
   ],
   "source": [
    "set1 = {2, 4, 5, 6}\n",
    "set2 = {4, 6, 7, 8}\n",
    "set3 = {7, 8, 9, 10}\n",
    " \n",
    "# union of two sets\n",
    "print(\"set1 U set2 : \", set1 | set2)\n",
    " \n",
    "# union of three sets\n",
    "print(\"set1 U set2 U set3 :\", set1 |set2 | set3)"
   ]
  },
  {
   "cell_type": "code",
   "execution_count": null,
   "id": "9f2227dd-c872-4118-acde-d325959cee51",
   "metadata": {},
   "outputs": [],
   "source": [
    "Intersection() function Python\n",
    "\n",
    "Python set intersection() method returns a new set with an element that is common to all set\n",
    "\n",
    "The intersection of two given sets is the largest set, which contains all the elements that are common to both sets. The intersection of two given sets A and B is a set which consists of all the elements which are common to both A and B."
   ]
  },
  {
   "cell_type": "code",
   "execution_count": 5,
   "id": "65390383-aa63-4735-a739-221650cbc760",
   "metadata": {},
   "outputs": [
    {
     "name": "stdout",
     "output_type": "stream",
     "text": [
      "{2, 3}\n"
     ]
    }
   ],
   "source": [
    "s1 = {1, 2, 3}\n",
    "s2 = {2, 3}\n",
    "print(s1.intersection(s2))"
   ]
  },
  {
   "cell_type": "code",
   "execution_count": 6,
   "id": "c91b48c7-0b1d-4534-a952-4ab655c1054d",
   "metadata": {},
   "outputs": [
    {
     "name": "stdout",
     "output_type": "stream",
     "text": [
      "set1 intersection set2 :  {4, 6}\n",
      "set1 intersection set2 intersection set3 : {4, 6}\n"
     ]
    }
   ],
   "source": [
    "set1 = {2, 4, 5, 6}\n",
    "set2 = {4, 6, 7, 8}\n",
    "set3 = {4, 6, 8}\n",
    " \n",
    "# intersection of two sets\n",
    "print(\"set1 intersection set2 : \",\n",
    "      set1.intersection(set2))\n",
    " \n",
    "# intersection of three sets\n",
    "print(\"set1 intersection set2 intersection set3 :\",\n",
    "      set1.intersection(set2, set3))"
   ]
  },
  {
   "cell_type": "code",
   "execution_count": null,
   "id": "8663db79-600c-4d4d-8f33-9358c494d9d4",
   "metadata": {},
   "outputs": [],
   "source": [
    "Python Set symmetric_difference()\n",
    "\n",
    "The symmetric difference of two sets set1 and set2 is the set of elements which are in either of the sets set1 or set2 but not in both."
   ]
  },
  {
   "cell_type": "code",
   "execution_count": 7,
   "id": "e9e43060-f3e7-41c1-9773-355488a2babf",
   "metadata": {},
   "outputs": [
    {
     "name": "stdout",
     "output_type": "stream",
     "text": [
      "{1, 4}\n",
      "{2, 5}\n"
     ]
    }
   ],
   "source": [
    "list1 = [1, 2, 3]  \n",
    "list2 = [2, 3, 4]  \n",
    "list3 = [3, 4, 5]  \n",
    "  \n",
    "# Convert list to sets \n",
    "set1 = set(list1)  \n",
    "set2 = set(list2)  \n",
    "  \n",
    "# Prints the symmetric difference when   \n",
    "# set is passed as a parameter  \n",
    "print(set1.symmetric_difference(set2))  \n",
    "  \n",
    "# Prints the symmetric difference when list is  \n",
    "# passed as a parameter by converting it to a set \n",
    "print(set2.symmetric_difference(list3)) "
   ]
  },
  {
   "cell_type": "code",
   "execution_count": null,
   "id": "1af18f46-6d9b-48ab-b529-7925fc1830ce",
   "metadata": {},
   "outputs": [],
   "source": [
    "The difference() method returns a set that contains the difference between two sets.\n",
    "\n",
    "Meaning: The returned set contains items that exist only in the first set, and not in both sets."
   ]
  },
  {
   "cell_type": "code",
   "execution_count": 8,
   "id": "197f0919-763a-407f-8925-5fadb947ba1d",
   "metadata": {},
   "outputs": [
    {
     "name": "stdout",
     "output_type": "stream",
     "text": [
      "{'cherry', 'banana'}\n"
     ]
    }
   ],
   "source": [
    "a = {\"apple\", \"banana\", \"cherry\"}\n",
    "b = {\"google\", \"microsoft\", \"apple\"}\n",
    "\n",
    "myset = a - b\n",
    "\n",
    "print(myset)"
   ]
  },
  {
   "cell_type": "code",
   "execution_count": null,
   "id": "e64cba6e-1d43-4eb0-ac08-ba4963fc9563",
   "metadata": {},
   "outputs": [],
   "source": [
    "Remove the last element from the set Using discard() method\n",
    "\n",
    "discard() method can also remove the element from the set, by passing the element into this function."
   ]
  },
  {
   "cell_type": "code",
   "execution_count": 9,
   "id": "d76140c4-6dfd-4804-abe3-57fcd06c6406",
   "metadata": {},
   "outputs": [
    {
     "name": "stdout",
     "output_type": "stream",
     "text": [
      "{1, 2, 3}\n",
      "{'For'}\n"
     ]
    }
   ],
   "source": [
    "s = {1, 2, 3, 4}\n",
    "s.discard(4)\n",
    "print(s)\n",
    " \n",
    "s = {\"Geeks\", \"For\"}\n",
    "s.discard(\"Geeks\")\n",
    "print(s)"
   ]
  },
  {
   "cell_type": "code",
   "execution_count": null,
   "id": "ce56f5f5-bd52-48a4-8cf6-b7958af0267f",
   "metadata": {},
   "outputs": [],
   "source": []
  }
 ],
 "metadata": {
  "kernelspec": {
   "display_name": "Python 3 (ipykernel)",
   "language": "python",
   "name": "python3"
  },
  "language_info": {
   "codemirror_mode": {
    "name": "ipython",
    "version": 3
   },
   "file_extension": ".py",
   "mimetype": "text/x-python",
   "name": "python",
   "nbconvert_exporter": "python",
   "pygments_lexer": "ipython3",
   "version": "3.12.4"
  }
 },
 "nbformat": 4,
 "nbformat_minor": 5
}
